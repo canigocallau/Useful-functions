{
 "cells": [
  {
   "cell_type": "code",
   "execution_count": 1,
   "metadata": {},
   "outputs": [],
   "source": [
    "import matplotlib.pyplot as plt"
   ]
  },
  {
   "cell_type": "code",
   "execution_count": 3,
   "metadata": {},
   "outputs": [
    {
     "name": "stdout",
     "output_type": "stream",
     "text": [
      "m= -1.0\n",
      "b= -1.0\n",
      "r**2= 1.0\n"
     ]
    },
    {
     "data": {
      "image/png": "[encoded data removed]",
      "text/plain": [
       "<Figure size 432x288 with 1 Axes>"
      ]
     },
     "metadata": {
      "needs_background": "light"
     },
     "output_type": "display_data"
    }
   ],
   "source": [
    "# Regressió lineal\n",
    "def linreg(x,y):\n",
    "    # el nom és bastant autoexplicatiu\n",
    "    global m,b,r2\n",
    "    n=len(x)\n",
    "    sumx,sumy,sumx2,sumy2,sumxy=(0.0,0.0,0.0,0.0,0.0)\n",
    "    for i in range(n):\n",
    "        sumx+=x[i]\n",
    "        sumx2+=x[i]**2\n",
    "        sumy+=y[i]\n",
    "        sumy2+=y[i]**2\n",
    "        sumxy+=x[i]*y[i]\n",
    "    m=(n*sumxy-sumx*sumy)/(n*sumx2-sumx**2)\n",
    "    b=(sumx2*sumy-sumxy*sumx)/(n*sumx2-sumx**2)\n",
    "    r2=(n*sumxy-sumx*sumy)**2/((n*sumx2-sumx**2)*(n*sumy2-sumy**2))\n",
    "    return\n",
    "x=[0,1,2,3,4]\n",
    "y=[-1,-2,-3,-4,-5]\n",
    "linreg(x,y)\n",
    "print(\"m=\",m)\n",
    "print(\"b=\",b)\n",
    "print(\"r**2=\",r2)\n",
    "plt.scatter(x,y)\n",
    "plt.plot(x,[m*i+b for i in range(len(x))])\n",
    "plt.show()"
   ]
  },
  {
   "cell_type": "code",
   "execution_count": null,
   "metadata": {},
   "outputs": [],
   "source": [
    "# moving average of a discrete dataset\n",
    "def moving_average(dataset,width):\n",
    "    # function that takes a dataset with size 2xN\n",
    "    # and returns the average of each set of\n",
    "    # consecutive points with a given width\n",
    "    x,y=dataset[0],dataset[1]\n",
    "    avx,avy=[],[]\n",
    "    pointers=[[] for i in range(max(x)+1)] # list with which y have points with a given x\n",
    "    for i in range(len(x)):\n",
    "        pointers[x[i]].append(y[i])\n",
    "    for i in range(min(x),max(x)-width+2):\n",
    "        avx.append(i+(width-1)/2) # average x position\n",
    "        n=0\n",
    "        for j in range(i,i+width):# counting of points in the width\n",
    "            n+=len(pointers[j])\n",
    "        avy.append(n)\n",
    "    return avx,avy\n",
    "# exemple a la notebook del model d'Izhikevich"
   ]
  }
 ],
 "metadata": {
  "kernelspec": {
   "display_name": "Python 3",
   "language": "python",
   "name": "python3"
  },
  "language_info": {
   "codemirror_mode": {
    "name": "ipython",
    "version": 3
   },
   "file_extension": ".py",
   "mimetype": "text/x-python",
   "name": "python",
   "nbconvert_exporter": "python",
   "pygments_lexer": "ipython3",
   "version": "3.7.0"
  }
 },
 "nbformat": 4,
 "nbformat_minor": 2
}
